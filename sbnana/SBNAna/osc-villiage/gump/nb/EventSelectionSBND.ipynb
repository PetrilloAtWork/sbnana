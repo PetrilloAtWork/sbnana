{
 "cells": [
  {
   "cell_type": "code",
   "execution_count": null,
   "metadata": {},
   "outputs": [],
   "source": [
    "%load_ext autoreload\n",
    "%autoreload 2\n",
    "\n",
    "from IPython.core.interactiveshell import InteractiveShell\n",
    "InteractiveShell.ast_node_interactivity = \"all\""
   ]
  },
  {
   "cell_type": "code",
   "execution_count": null,
   "metadata": {},
   "outputs": [],
   "source": [
    "import pandas as pd\n",
    "import numpy as np\n",
    "import matplotlib.pyplot as plt \n",
    "# from util import *\n",
    "\n",
    "import warnings\n",
    "warnings.simplefilter(action='ignore', category=pd.errors.PerformanceWarning)"
   ]
  },
  {
   "cell_type": "markdown",
   "metadata": {},
   "source": [
    "# Utils"
   ]
  },
  {
   "cell_type": "code",
   "execution_count": null,
   "metadata": {},
   "outputs": [],
   "source": [
    "MASS_MUON = 0.105658\n",
    "MASS_NEUTRON = 0.9395654\n",
    "MASS_PROTON = 0.938272\n",
    "MASS_A = 22*MASS_NEUTRON + 18*MASS_PROTON - 0.34381\n",
    "BE = 0.0295\n",
    "MASS_Ap = MASS_A - MASS_NEUTRON + BE"
   ]
  },
  {
   "cell_type": "code",
   "execution_count": null,
   "metadata": {},
   "outputs": [],
   "source": [
    "def mag2d(x, y):\n",
    "    return np.sqrt(x**2 + y**2)"
   ]
  },
  {
   "cell_type": "code",
   "execution_count": null,
   "metadata": {},
   "outputs": [],
   "source": [
    "def issignal(df):\n",
    "    # return InFV(df.position, 50) & (df.iscc) & (df.nmu == 1) & (df.np == 1)\n",
    "    return (df.iscc) & (df.nmu == 1) & (df.np == 1)"
   ]
  },
  {
   "cell_type": "code",
   "execution_count": null,
   "metadata": {},
   "outputs": [],
   "source": [
    "def InFV(data): # cm\n",
    "    xmin = -199.15 + 10\n",
    "    ymin = -200. + 10\n",
    "    zmin = 0.0 + 10\n",
    "    xmax = 199.15 - 10\n",
    "    ymax =  200. - 10\n",
    "    zmax =  500. - 50\n",
    "    return (data.x > xmin) & (data.x < xmax) & (data.y > ymin) & (data.y < ymax) & (data.z > zmin) & (data.z < zmax)\n",
    "\n",
    "def InBeam(t):\n",
    "    return (t > 0.) & (t < 1.800)"
   ]
  },
  {
   "cell_type": "code",
   "execution_count": null,
   "metadata": {},
   "outputs": [],
   "source": [
    "def is_cosmic(df):\n",
    "    return (df.slc.truth.pdg == -1)\n",
    "\n",
    "def is_FV(df): \n",
    "    return (InFV(df.position))\n",
    "\n",
    "def is_numu(df):\n",
    "    return (np.abs(df.pdg) == 14)\n",
    "\n",
    "def is_CC(df):\n",
    "    return (df.iscc == 1)\n",
    "\n",
    "def is_NC(df):\n",
    "    return (df.iscc == 0)\n",
    "\n",
    "def is_1p0pi(df):\n",
    "    return (df.nmu_20MeV == 1) & (df.np_50MeV == 1) & (df.npi_40MeV == 0) & (df.npi0 == 0)\n",
    "\n",
    "def is_signal(df):\n",
    "    return is_numu(df) & is_CC(df) & is_1p0pi(df) & is_FV(df)\n",
    "\n",
    "def is_outFV(df):\n",
    "    return is_numu(df) & is_CC(df) & is_1p0pi(df) & np.invert(is_FV(df))\n",
    "\n",
    "def is_othernumuCC(df):\n",
    "    return is_numu(df) & is_CC(df) & np.invert(is_1p0pi(df)) & is_FV(df)"
   ]
  },
  {
   "cell_type": "markdown",
   "metadata": {},
   "source": [
    "# Plotters"
   ]
  },
  {
   "cell_type": "code",
   "execution_count": null,
   "metadata": {},
   "outputs": [],
   "source": [
    "mode_list = [0, 10, 1, 2, 3]\n",
    "mode_labels = ['QE', 'MEC', 'RES', 'SIS/DIS', 'COH', \"other\"]\n",
    "mode_colors = [\"darkorchid\", \"royalblue\", \"forestgreen\", \"darkorange\", \"firebrick\"]\n",
    "\n",
    "def breakdown_mode(var, df):\n",
    "    ret = [var[df.genie_mode == i] for i in mode_list] \n",
    "    return ret\n"
   ]
  },
  {
   "cell_type": "code",
   "execution_count": null,
   "metadata": {},
   "outputs": [],
   "source": [
    "top_labels = [\"Signal\",\n",
    "              \"Other numu CC\",\n",
    "              \"NC\",\n",
    "              \"Out of FV\",\n",
    "              \"Cosmic\",\n",
    "              \"Other\"]\n",
    "\n",
    "top_colors = []\n",
    "def breakdown_top(var, df):\n",
    "    ret = [var[is_signal(df)],\n",
    "           var[is_othernumuCC(df)],\n",
    "           var[is_NC(df)],\n",
    "           var[is_outFV(df)],\n",
    "           var[is_cosmic(df)],\n",
    "           var[np.invert(is_signal(df) | is_othernumuCC(df) | is_NC(df) | is_outFV(df) | is_cosmic(df))]\n",
    "           ]\n",
    "    return ret"
   ]
  },
  {
   "cell_type": "markdown",
   "metadata": {},
   "source": [
    "# Selection"
   ]
  },
  {
   "cell_type": "code",
   "execution_count": null,
   "metadata": {},
   "outputs": [],
   "source": [
    "# df = pd.read_hdf(\"/exp/sbnd/data/users/munjung/osc/sbnd.df\", \"evt\")\n",
    "df = pd.read_hdf(\"/home/munjung/osc/sync/sbnana/sbnana/SBNAna/osc-villiage/test.df\", \"evt\")"
   ]
  },
  {
   "cell_type": "code",
   "execution_count": null,
   "metadata": {},
   "outputs": [],
   "source": [
    "# vertex in FV\n",
    "\n",
    "df = df[InFV(df.slc.vertex)]"
   ]
  },
  {
   "cell_type": "code",
   "execution_count": null,
   "metadata": {},
   "outputs": [],
   "source": [
    "# cosmic rejection \n",
    "\n",
    "# var = [df.slc.nu_score[is_cosmic(df)],\n",
    "#        df.slc.nu_score[np.invert(is_cosmic(df))]]\n",
    "# plt.hist(var, bins=21, label=[\"Cosmic\", \"Nu\"], histtype=\"step\", density=True)\n",
    "# plt.legend()\n",
    "# plt.show();\n",
    "\n",
    "# Traditional \n",
    "nu_score = (df.slc.nu_score > 0.5)\n",
    "# f_match = (df.slc.fmatch.score < 7.0) & (InBeam(df.slc.fmatch.time))\n",
    "cosmic_rejection = nu_score #& f_match\n",
    "\n",
    "# CRUMBS\n",
    "# crumbs = (df.slc_crumbs_result.score > 0)\n",
    "# cosmic_rejection = (crumbs)\n",
    "\n",
    "df = df[cosmic_rejection]"
   ]
  },
  {
   "cell_type": "code",
   "execution_count": null,
   "metadata": {
    "tags": []
   },
   "outputs": [],
   "source": [
    "var = df.mu.pfp.trk.P.p_muon\n",
    "pvar = breakdown_top(var, df)\n",
    "n, bins, _ = plt.hist(pvar, bins=np.linspace(0,2,21), stacked=True, \n",
    "                      label=top_labels)\n",
    "print(\"signal purity {:.2f} %\".format(100*n[0].sum()/n[-1].sum()))\n",
    "plt.legend()\n",
    "plt.show();"
   ]
  },
  {
   "cell_type": "markdown",
   "metadata": {},
   "source": [
    "## Select 1mu1p topology"
   ]
  },
  {
   "cell_type": "code",
   "execution_count": null,
   "metadata": {
    "tags": []
   },
   "outputs": [],
   "source": [
    "# reject slices with any showers or 3rd tracks\n",
    "twoprong_cut = (np.isnan(df.other_shw_length) & np.isnan(df.other_trk_length))\n",
    "\n",
    "df = df[twoprong_cut]"
   ]
  },
  {
   "cell_type": "code",
   "execution_count": null,
   "metadata": {},
   "outputs": [],
   "source": [
    "var = df.mu.pfp.trk.P.p_muon\n",
    "pvar = breakdown_top(var, df)\n",
    "n, bins, _ = plt.hist(pvar, bins=np.linspace(0,2,21), stacked=True, \n",
    "                      label=top_labels)\n",
    "print(\"signal purity {:.2f} %\".format(100*n[0].sum()/n[-1].sum()))\n",
    "plt.legend()\n",
    "plt.show();"
   ]
  },
  {
   "cell_type": "code",
   "execution_count": null,
   "metadata": {
    "tags": []
   },
   "outputs": [],
   "source": [
    "# muon cut on muon candidates\n",
    "MUSEL_MUSCORE_TH = 25\n",
    "MUSEL_PSCORE_TH = 100\n",
    "MUSEL_LEN_TH = 50\n",
    "\n",
    "# TODO: use scores of all 3 planes\n",
    "# muon_chi2 = (Avg(df, \"muon\", drop_0=True) < MUSEL_MUSCORE_TH) & (Avg(df, \"proton\", drop_0=True) > MUSEL_PSCORE_TH)\n",
    "\n",
    "# TODO: used BDT scores\n",
    "# len_cut = (masterdf.len.squeeze() > MUSEL_LEN_TH)\n",
    "# dazzle_muon = (masterdf.dazzle.muonScore > 0.6)\n",
    "# muon_cut = (muon_chi2) & (len_cut | dazzle_muon)\n",
    "\n",
    "mu_score_cut = (df.mu.pfp.trk.chi2pid.I2.chi2_muon < MUSEL_MUSCORE_TH) & (df.pfp.trk.chi2pid.I2.chi2_proton > MUSEL_PSCORE_TH)\n",
    "mu_len_cut = (df.mu.pfp.trk.len > MUSEL_LEN_TH)\n",
    "mu_cut = (mu_score_cut) & (mu_len_cut)\n",
    "\n",
    "# proton cut on proton candidates\n",
    "PSEL_MUSCORE_TH = 0\n",
    "PSEL_PSCORE_TH = 90\n",
    "p_score_cut = (df.p.pfp.trk.chi2pid.I2.chi2_muon > PSEL_MUSCORE_TH) & (df.p.pfp.trk.chi2pid.I2.chi2_proton < PSEL_PSCORE_TH) \n",
    "p_cut = p_score_cut\n",
    "\n",
    "# select slices with mu+p\n",
    "slc_mu_cut = mu_cut.groupby(level=[0,1,2]).any()\n",
    "slc_p_cut = p_cut.groupby(level=[0,1,2]).any()\n",
    "df = df.loc[slc_mu_cut & slc_p_cut]"
   ]
  },
  {
   "cell_type": "code",
   "execution_count": null,
   "metadata": {},
   "outputs": [],
   "source": [
    "var = df.mu.pfp.trk.P.p_muon\n",
    "pvar = breakdown_top(var, df)\n",
    "n, bins, _ = plt.hist(pvar, bins=np.linspace(0,2,21), stacked=True, \n",
    "                      label=top_labels)\n",
    "print(\"signal purity {:.2f} %\".format(100*n[0].sum()/n[-1].sum()))\n",
    "plt.legend()\n",
    "plt.show();"
   ]
  },
  {
   "cell_type": "code",
   "execution_count": null,
   "metadata": {
    "tags": []
   },
   "outputs": [],
   "source": [
    "# stub cut\n",
    "\n",
    "binx = np.linspace(0, 5,11)\n",
    "biny = np.linspace(0, 800000, 17)\n",
    "\n",
    "lines = [[(3, 3e5), (3, 1e6)], [(1.5, 3e5), (1.5, 4e5)], [(0.5, 4e5), (0.5, 5.5e5)], \n",
    "         [(1.5, 3e5), (3, 3e5)], [(0.5, 4e5), (1.5, 4e5)], [(0, 5.5e5), (0.5, 5.5e5)]]\n",
    "\n",
    "fig, ax = plt.subplots()\n",
    "when = (np.abs(stubdf.truth.p.pdg) == 2212) & (stubdf.truth.p.genE - MASS_PROTON < 0.05) #& (stubdf.nplane == 1)\n",
    "_ = plt.hist2d(stubdf.length[when], (stubdf.inc_sub_charge / stubdf.length)[when], bins=[binx, biny])\n",
    "plt.ticklabel_format(axis='y', style='sci', scilimits=(5,5))\n",
    "lc = mc.LineCollection(lines, linewidths=2, color=\"red\", linestyle=\"--\")\n",
    "ax.add_collection(lc)\n",
    "\n",
    "plt.xlabel(\"Length [cm]\")\n",
    "plt.ylabel(\"dQ/dx [#elec/cm]\")\n",
    "plt.title(\"Protons\")\n",
    "plt.show();\n",
    "\n",
    "fig, ax = plt.subplots()\n",
    "when = (np.abs(stubdf.truth.p.pdg) != 2212) & (stubdf.truth.p.interaction_id > 0)\n",
    "_ = plt.hist2d(stubdf.length[when], (stubdf.charge / stubdf.length)[when], bins=[binx, biny])\n",
    "plt.ticklabel_format(axis='y', style='sci', scilimits=(5,5))\n",
    "lc = mc.LineCollection(lines, linewidths=2, color=\"red\", linestyle=\"--\")\n",
    "ax.add_collection(lc)\n",
    "\n",
    "plt.xlabel(\"Length [cm]\")\n",
    "plt.ylabel(\"dQ/dx [#elec/cm]\")\n",
    "plt.title(\"False Positive\")"
   ]
  },
  {
   "cell_type": "code",
   "execution_count": null,
   "metadata": {},
   "outputs": [],
   "source": [
    "# no stub\n",
    "\n",
    "df = df[np.invert(df.slc.has_stub)]"
   ]
  },
  {
   "cell_type": "code",
   "execution_count": null,
   "metadata": {},
   "outputs": [],
   "source": [
    "var = df.mu.pfp.trk.P.p_muon\n",
    "pvar = breakdown_top(var, df)\n",
    "n, bins, _ = plt.hist(pvar, bins=np.linspace(0,2,21), stacked=True, \n",
    "                      label=top_labels)\n",
    "print(\"signal purity {:.2f} %\".format(100*n[0].sum()/n[-1].sum()))\n",
    "plt.legend()\n",
    "plt.show();"
   ]
  },
  {
   "cell_type": "code",
   "execution_count": null,
   "metadata": {
    "tags": []
   },
   "outputs": [],
   "source": [
    "# TODO: merge didn't overwrite nans -- expected?\n",
    "\n",
    "mudf = df.loc[mu_cut].groupby(level=[0,1]).head(1).pfp.trk\n",
    "mudf.index = mudf.index.droplevel(-1)\n",
    "pdf = df.loc[p_cut].groupby(level=[0,1]).head(1).pfp.trk\n",
    "pdf.index = pdf.index.droplevel(-1)\n",
    "slcdf = df.groupby(level=[0,1]).head(1)\n",
    "slcdf.index = slcdf.index.droplevel(-1)"
   ]
  },
  {
   "cell_type": "code",
   "execution_count": null,
   "metadata": {},
   "outputs": [],
   "source": [
    "# Caculate transverse kinematics\n",
    "\n",
    "mu_p = mudf.P.p_muon\n",
    "mu_p_x = mu_p * mudf.cos.x\n",
    "mu_p_y = mu_p * mudf.cos.y\n",
    "mu_p_z = mu_p * mudf.cos.z\n",
    "mu_phi_x = mu_p_x/mag2d(mu_p_x, mu_p_y)\n",
    "mu_phi_y = mu_p_y/mag2d(mu_p_x, mu_p_y)\n",
    "\n",
    "p_p = pdf.P.p_proton\n",
    "p_p_x = p_p * pdf.cos.x\n",
    "p_p_y = p_p * pdf.cos.y\n",
    "p_p_z = p_p * pdf.cos.z\n",
    "p_phi_x = p_p_x/mag2d(p_p_x, p_p_y)\n",
    "p_phi_y = p_p_y/mag2d(p_p_x, p_p_y)\n",
    "\n",
    "mu_Tp_x = mu_phi_y*mu_p_x - mu_phi_x*mu_p_y\n",
    "mu_Tp_y = mu_phi_x*mu_p_x - mu_phi_y*mu_p_y\n",
    "mu_Tp = mag2d(mu_Tp_x, mu_Tp_y)\n",
    "\n",
    "p_Tp_x = mu_phi_y*p_p_x - mu_phi_x*p_p_y\n",
    "p_Tp_y = mu_phi_x*p_p_x - mu_phi_y*p_p_y\n",
    "p_Tp = mag2d(p_Tp_x, p_Tp_y)\n",
    "\n",
    "del_Tp_x = mu_Tp_x + p_Tp_x\n",
    "del_Tp_y = mu_Tp_y + p_Tp_y\n",
    "del_Tp = mag2d(del_Tp_x, del_Tp_y)\n",
    "\n",
    "del_alpha = np.arccos(-(mu_Tp_x*del_Tp_x + mu_Tp_y*del_Tp_y)/(mu_Tp*del_Tp))\n",
    "del_theta = np.arccos(-(mu_Tp_x*p_Tp_x + mu_Tp_y*p_Tp_y)/(mu_Tp*p_Tp))\n",
    "\n",
    "mu_E = mag2d(mu_p, MASS_MUON)\n",
    "p_E = mag2d(p_p, MASS_PROTON)\n",
    "\n",
    "R = MASS_A + mu_p_z + p_p_z - mu_E - p_E\n",
    "del_Lp = 0.5*R - mag2d(MASS_Ap, del_Tp)**2/(2*R)\n",
    "del_p = mag2d(del_Tp, del_Lp)"
   ]
  },
  {
   "cell_type": "code",
   "execution_count": null,
   "metadata": {},
   "outputs": [],
   "source": [
    "DELP_TH = 0.25"
   ]
  },
  {
   "cell_type": "code",
   "execution_count": null,
   "metadata": {},
   "outputs": [],
   "source": [
    "var = breakdown_mode(del_p, slcdf)\n",
    "n, bins, _ = plt.hist(var, bins=np.linspace(0,1,21), stacked=True, \n",
    "                      label=mode_labels, color=mode_colors)\n",
    "plt.axvline(DELP_TH, color='k', linestyle=\"--\")\n",
    "plt.legend()\n",
    "plt.show();"
   ]
  },
  {
   "cell_type": "code",
   "execution_count": null,
   "metadata": {},
   "outputs": [],
   "source": [
    "var = del_p\n",
    "pvar = breakdown_top(var, slcdf)\n",
    "n, bins, _ = plt.hist(pvar, bins=np.linspace(0,1,21), stacked=True, \n",
    "                      label=top_labels)\n",
    "plt.axvline(DELP_TH, color='k', linestyle=\"--\")\n",
    "plt.legend()\n",
    "plt.show();"
   ]
  },
  {
   "cell_type": "code",
   "execution_count": null,
   "metadata": {},
   "outputs": [],
   "source": [
    "# transverse momentum cut\n",
    "df = slcdf[del_p < DELP_TH]"
   ]
  },
  {
   "cell_type": "code",
   "execution_count": null,
   "metadata": {},
   "outputs": [],
   "source": [
    "var = df.mu.pfp.trk.P.p_muon\n",
    "pvar = breakdown_top(var, df)\n",
    "n, bins, _ = plt.hist(pvar, bins=np.linspace(0,2,21), stacked=True, \n",
    "                      label=top_labels)\n",
    "print(\"signal purity {:.2f} %\".format(100*n[0].sum()/n[-1].sum()))\n",
    "plt.legend()\n",
    "plt.show();"
   ]
  },
  {
   "cell_type": "code",
   "execution_count": null,
   "metadata": {},
   "outputs": [],
   "source": []
  },
  {
   "cell_type": "code",
   "execution_count": null,
   "metadata": {},
   "outputs": [],
   "source": []
  },
  {
   "cell_type": "code",
   "execution_count": null,
   "metadata": {},
   "outputs": [],
   "source": []
  }
 ],
 "metadata": {
  "kernelspec": {
   "display_name": "python3 (.conda-env)",
   "language": "python",
   "name": "conda-env-.conda-env-py"
  },
  "language_info": {
   "codemirror_mode": {
    "name": "ipython",
    "version": 3
   },
   "file_extension": ".py",
   "mimetype": "text/x-python",
   "name": "python",
   "nbconvert_exporter": "python",
   "pygments_lexer": "ipython3",
   "version": "3.9.18"
  }
 },
 "nbformat": 4,
 "nbformat_minor": 4
}
